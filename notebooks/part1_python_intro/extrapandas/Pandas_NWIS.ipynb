{
 "cells": [
  {
   "cell_type": "code",
   "execution_count": null,
   "metadata": {},
   "outputs": [],
   "source": [
    "import pandas as pd\n",
    "import matplotlib.pyplot as plt\n",
    "%matplotlib inline\n",
    "import os\n",
    "import requests\n",
    "from matplotlib.backends.backend_pdf import PdfPages"
   ]
  },
  {
   "cell_type": "markdown",
   "metadata": {},
   "source": [
    "# Introduction to python for hydrologists &mdash; pandas\n",
    "\n",
    "\n",
    "## create a url to read in a single station"
   ]
  },
  {
   "cell_type": "code",
   "execution_count": null,
   "metadata": {},
   "outputs": [],
   "source": [
    "url='http://waterservices.usgs.gov/nwis/gwlevels/?format=rdb,1.0&sites=430429089230301&startDT=1880-01-01&endDT=2018-01-01&siteType=GW'"
   ]
  },
  {
   "cell_type": "code",
   "execution_count": null,
   "metadata": {},
   "outputs": [],
   "source": [
    "dv_file = requests.get(url)\n",
    "\n",
    "with open(os.path.join('data',\"430429089230301.dat\"), 'w') as ofp:\n",
    "    for carp in dv_file:\n",
    "        ofp.write(carp.decode())"
   ]
  },
  {
   "cell_type": "code",
   "execution_count": null,
   "metadata": {},
   "outputs": [],
   "source": [
    "import os\n",
    "import numpy as np\n",
    "NWISfilename = os.path.join('data',\"430429089230301.dat\")\n",
    "reconnoiter = open(NWISfilename, 'r').readlines()\n",
    "for i in np.arange(60):\n",
    "    print (reconnoiter[i].rstrip())"
   ]
  },
  {
   "cell_type": "code",
   "execution_count": null,
   "metadata": {},
   "outputs": [],
   "source": [
    "numhash = 0 #let's use the as the counter\n",
    "for line in reconnoiter:\n",
    "    if line.startswith('#'):\n",
    "        numhash +=1\n",
    "    else:\n",
    "        break\n",
    "        \n",
    "print (numhash)"
   ]
  },
  {
   "cell_type": "markdown",
   "metadata": {},
   "source": [
    "# Read in a time series of groundwater levels"
   ]
  },
  {
   "cell_type": "code",
   "execution_count": null,
   "metadata": {},
   "outputs": [],
   "source": [
    "colnames = reconnoiter[numhash].rstrip().split()"
   ]
  },
  {
   "cell_type": "code",
   "execution_count": null,
   "metadata": {},
   "outputs": [],
   "source": [
    "nwis_df = pd.read_csv(url,sep='\\t',\n",
    "                          skiprows = numhash+2,\n",
    "                          names = colnames,\n",
    "                          parse_dates = True,\n",
    "                          index_col = 3)"
   ]
  },
  {
   "cell_type": "code",
   "execution_count": null,
   "metadata": {},
   "outputs": [],
   "source": [
    "nwis_df.head()"
   ]
  },
  {
   "cell_type": "markdown",
   "metadata": {},
   "source": [
    "## get rid of columns that are all NaN"
   ]
  },
  {
   "cell_type": "code",
   "execution_count": null,
   "metadata": {},
   "outputs": [],
   "source": [
    "nwis_df.dropna(axis=1,thresh=len(nwis_df), inplace=True)"
   ]
  },
  {
   "cell_type": "code",
   "execution_count": null,
   "metadata": {},
   "outputs": [],
   "source": [
    "nwis_df.head()"
   ]
  },
  {
   "cell_type": "code",
   "execution_count": null,
   "metadata": {},
   "outputs": [],
   "source": [
    "nwis_df.lev_va.plot()"
   ]
  },
  {
   "cell_type": "markdown",
   "metadata": {},
   "source": [
    "## resample"
   ]
  },
  {
   "cell_type": "code",
   "execution_count": null,
   "metadata": {},
   "outputs": [],
   "source": [
    "nwis_df.lev_va.resample('M').mean().plot(style='.')"
   ]
  },
  {
   "cell_type": "code",
   "execution_count": null,
   "metadata": {},
   "outputs": [],
   "source": [
    "nwis_df.lev_va.resample('A').mean().plot(style='.')"
   ]
  },
  {
   "cell_type": "markdown",
   "metadata": {},
   "source": [
    "## aggregate"
   ]
  },
  {
   "cell_type": "code",
   "execution_count": null,
   "metadata": {},
   "outputs": [],
   "source": [
    "fig = plt.figure(figsize=(12,4))\n",
    "\n",
    "mean_lev = nwis_df.lev_va.groupby(nwis_df.index.year).mean()\n",
    "lower_CI = mean_lev - 2*nwis_df.lev_va.groupby(nwis_df.index.year).std()\n",
    "upper_CI = mean_lev + 2*nwis_df.lev_va.groupby(nwis_df.index.year).std()\n",
    "ax = mean_lev.plot(style='r.-')\n",
    "plt.fill_between(lower_CI.index,lower_CI,upper_CI, color='r',alpha = 0.2)"
   ]
  },
  {
   "cell_type": "code",
   "execution_count": null,
   "metadata": {},
   "outputs": [],
   "source": [
    "fig = plt.figure(figsize=(12,4))\n",
    "nwis_df.lev_va.groupby(nwis_df.index.year).count().plot(kind='bar',rot=45)"
   ]
  },
  {
   "cell_type": "markdown",
   "metadata": {},
   "source": [
    "## navigate"
   ]
  },
  {
   "cell_type": "code",
   "execution_count": null,
   "metadata": {},
   "outputs": [],
   "source": [
    "nwis_df.loc[nwis_df.index.year<1950].lev_va.plot()"
   ]
  },
  {
   "cell_type": "code",
   "execution_count": null,
   "metadata": {},
   "outputs": [],
   "source": [
    "nwis_df.loc[(nwis_df.index.year<1950) & (nwis_df.index.year>1948)].lev_va.plot()"
   ]
  },
  {
   "cell_type": "markdown",
   "metadata": {},
   "source": [
    "## set values"
   ]
  },
  {
   "cell_type": "code",
   "execution_count": null,
   "metadata": {},
   "outputs": [],
   "source": [
    "nwis_df.loc[(nwis_df.index.year<1950) & (nwis_df.index.year>1948), 'lev_va'] += 100"
   ]
  },
  {
   "cell_type": "code",
   "execution_count": null,
   "metadata": {},
   "outputs": [],
   "source": [
    "nwis_df.lev_va.plot()"
   ]
  },
  {
   "cell_type": "markdown",
   "metadata": {},
   "source": [
    "## groupby"
   ]
  },
  {
   "cell_type": "code",
   "execution_count": null,
   "metadata": {
    "scrolled": true
   },
   "outputs": [],
   "source": [
    "with PdfPages(os.path.join('data','allyears.pdf')) as outpdf:\n",
    "    for cname,cgroup in nwis_df.groupby(nwis_df.index.year):\n",
    "        print(cname)\n",
    "        plt.figure()\n",
    "        cgroup.lev_va.plot(title=cname)\n",
    "        outpdf.savefig()\n",
    "        plt.close('all')\n",
    "    "
   ]
  },
  {
   "cell_type": "code",
   "execution_count": null,
   "metadata": {},
   "outputs": [],
   "source": [
    "cgroup"
   ]
  }
 ],
 "metadata": {
  "kernelspec": {
   "display_name": "Python 3",
   "language": "python",
   "name": "python3"
  },
  "language_info": {
   "codemirror_mode": {
    "name": "ipython",
    "version": 3
   },
   "file_extension": ".py",
   "mimetype": "text/x-python",
   "name": "python",
   "nbconvert_exporter": "python",
   "pygments_lexer": "ipython3",
   "version": "3.6.4"
  }
 },
 "nbformat": 4,
 "nbformat_minor": 2
}
