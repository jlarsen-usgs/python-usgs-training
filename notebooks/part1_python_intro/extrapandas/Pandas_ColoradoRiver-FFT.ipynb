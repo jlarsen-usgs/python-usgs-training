{
 "cells": [
  {
   "cell_type": "code",
   "execution_count": null,
   "metadata": {},
   "outputs": [],
   "source": [
    "import pandas as pd\n",
    "from scipy.signal import detrend as sp_detrend\n",
    "import matplotlib.pyplot as plt\n",
    "%matplotlib inline\n",
    "import os\n",
    "import numpy as np\n",
    "import requests\n"
   ]
  },
  {
   "cell_type": "markdown",
   "metadata": {},
   "source": [
    "# Introduction to python for hydrologists &mdash; pandas\n",
    "\n",
    "## Fourier analysis - so nerdy. so fun\n",
    "https://youtu.be/spUNpyF58BY"
   ]
  },
  {
   "cell_type": "markdown",
   "metadata": {},
   "source": [
    "## read in the daily values for the entire history of Lee's Ferry"
   ]
  },
  {
   "cell_type": "code",
   "execution_count": null,
   "metadata": {},
   "outputs": [],
   "source": [
    "dv_url = 'http://waterservices.usgs.gov/nwis/dv/?format=rdb'\n",
    "dv_url += '&sites={0}'.format('09380000')\n",
    "#dv_url += '&startDT=2010-01-01'\n",
    "dv_url += '&startDT=1880-01-01'\n",
    "#dv_url += '&endDT=2018-01-17'\n",
    "dv_url += '&parameterCd=00060'\n",
    "print(dv_url)\n"
   ]
  },
  {
   "cell_type": "code",
   "execution_count": null,
   "metadata": {},
   "outputs": [],
   "source": [
    "print ('reading data')\n",
    "dv_file = requests.get(dv_url)\n",
    "if not os.path.exists(os.path.join('data','pandas')):\n",
    "    os.mkdir(os.path.join('data','pandas'))\n",
    "with open(os.path.join('data','pandas','Lees Ferry.dat'), 'w') as ofp:\n",
    "    for carp in dv_file:\n",
    "        ofp.write(carp.decode())"
   ]
  },
  {
   "cell_type": "code",
   "execution_count": null,
   "metadata": {},
   "outputs": [],
   "source": [
    "NWISfilename = os.path.join('data','pandas','Lees Ferry.dat')\n",
    "reconnoiter = open(NWISfilename, 'r').readlines()\n",
    "for i in np.arange(60):\n",
    "    print (reconnoiter[i].rstrip())"
   ]
  },
  {
   "cell_type": "code",
   "execution_count": null,
   "metadata": {},
   "outputs": [],
   "source": [
    "numhash = 0 #let's use the as the counter\n",
    "for line in reconnoiter:\n",
    "    if line.startswith('#'):\n",
    "        numhash +=1\n",
    "    else:\n",
    "        break\n",
    "        \n",
    "print (numhash)"
   ]
  },
  {
   "cell_type": "markdown",
   "metadata": {},
   "source": [
    "# Read in the time series"
   ]
  },
  {
   "cell_type": "code",
   "execution_count": null,
   "metadata": {},
   "outputs": [],
   "source": [
    "colnames = reconnoiter[numhash].rstrip().split()\n",
    "colnames[3] = 'Q'\n",
    "\n",
    "df_all = pd.read_csv(os.path.join('data','pandas','Lees Ferry.dat'),\n",
    "                      sep='\\t',\n",
    "                      skiprows = numhash+2,\n",
    "                      names = colnames,\n",
    "                      parse_dates = True,\n",
    "                      index_col = 2)"
   ]
  },
  {
   "cell_type": "markdown",
   "metadata": {},
   "source": [
    "## we have to detrend the data for `fft` to work properly. care why? read this: https://groups.google.com/forum/#!topic/comp.dsp/kYDZqetr_TU\n",
    "\n",
    "## how do we do this? python is \"batteries included\" https://docs.scipy.org/doc/scipy/reference/generated/scipy.signal.detrend.html"
   ]
  },
  {
   "cell_type": "markdown",
   "metadata": {},
   "source": [
    "## doesn't look different, but a linear trend was subtracted"
   ]
  },
  {
   "cell_type": "code",
   "execution_count": null,
   "metadata": {},
   "outputs": [],
   "source": [
    "df_all['Q_detrend'] = sp_detrend(df_all.Q)"
   ]
  },
  {
   "cell_type": "code",
   "execution_count": null,
   "metadata": {},
   "outputs": [],
   "source": [
    "N = len(df_all)\n",
    "fig = plt.figure(figsize=(12,6))\n",
    "ax = plt.subplot(3,1,1)\n",
    "plt.plot(df_all.Q_detrend)\n",
    "plt.title('detrended signal')\n",
    "plt.grid()\n",
    "\n",
    "plt.subplot(3,1,2)\n",
    "plt.plot(range(len(df_all)),df_all.Q)\n",
    "plt.title('Raw Signal')\n",
    "\n",
    "\n",
    "plt.subplot(3,1,3)\n",
    "plt.plot(range(len(df_all)),df_all.Q-df_all.Q_detrend)\n",
    "plt.title('difference')\n",
    "\n",
    "\n",
    "plt.tight_layout()"
   ]
  },
  {
   "cell_type": "code",
   "execution_count": null,
   "metadata": {},
   "outputs": [],
   "source": [
    "N = len(df_all)\n",
    "yf = np.fft.fft(df_all.Q_detrend)\n",
    "yf = np.abs(yf[:int(N/2)])\n",
    "# get the right frequency \n",
    "# https://docs.scipy.org/doc/numpy/reference/generated/numpy.fft.fftfreq.html#numpy.fft.fftfreq\n",
    "d = 1. # day\n",
    "f = np.fft.fftfreq(N,d)[:int(N/2)]\n",
    "per = 1./f # days\n",
    "fig = plt.figure(figsize=(12,6))\n",
    "ax = plt.subplot(2,1,1)\n",
    "plt.plot(per, yf)\n",
    "plt.xscale('log')\n",
    "\n",
    "top4=np.argsort(yf)[-4:]\n",
    "j=0.6\n",
    "for i in top4:\n",
    "    plt.plot([per[i],per[i]],[0,np.max(yf)],'r:')\n",
    "    plt.text(per[i],j*np.max(yf),'{0:.2f}'.format(per[i]))\n",
    "    j+=0.1\n",
    "\n",
    "plt.title('Period Spectrum')\n",
    "plt.grid()\n",
    "ax.set_xlabel('Period (days)')\n",
    "plt.xlim([0, 1e4])\n",
    "\n",
    "\n",
    "plt.subplot(2,1,2)\n",
    "plt.plot(range(len(df_all)),df_all.Q)\n",
    "plt.title('Raw Signal')\n",
    "plt.tight_layout()"
   ]
  },
  {
   "cell_type": "markdown",
   "metadata": {},
   "source": [
    "## look only at years prior to Glen Canyon dam filling"
   ]
  },
  {
   "cell_type": "code",
   "execution_count": null,
   "metadata": {},
   "outputs": [],
   "source": [
    "df = df_all.loc[df_all.index.year<1963].copy()\n",
    "N = len(df)\n",
    "d = 1. # day\n",
    "f = np.fft.fftfreq(N,d)[:int(N/2)]\n",
    "per = 1./f # days\n",
    "\n",
    "yf_predam = np.fft.fft(sp_detrend(df.Q))\n",
    "yf_predam = np.abs(yf_predam[:int(N/2)])\n",
    "\n",
    "fig = plt.figure(figsize=(12,4))\n",
    "plt.subplot(2,1,1)\n",
    "plt.plot(per,yf_predam)\n",
    "top4=np.argsort(yf_predam)[-4:]\n",
    "j=0.6\n",
    "for i in top4:\n",
    "    plt.plot([per[i],per[i]],[0,np.max(yf_predam)],'r:')\n",
    "    plt.text(per[i],j*np.max(yf_predam),'{0:.2f}'.format(per[i]))\n",
    "    j+=0.1\n",
    "\n",
    "plt.xscale('log')\n",
    "\n",
    "plt.grid()\n",
    "plt.xlim([0,1e4])\n",
    "plt.subplot(2,1,2)\n",
    "plt.plot(range(len(df)),df.Q)"
   ]
  },
  {
   "cell_type": "markdown",
   "metadata": {},
   "source": [
    "## did things change after the dam filled up in 1963?"
   ]
  },
  {
   "cell_type": "code",
   "execution_count": null,
   "metadata": {},
   "outputs": [],
   "source": [
    "df = df_all.copy()\n",
    "df = df.loc[df.index.year>1963]\n",
    "N = len(df)\n",
    "d = 1. # day\n",
    "f = np.fft.fftfreq(N,d)[:int(N/2)]\n",
    "per = 1./f # days\n",
    "yf_postdam = np.fft.fft(sp_detrend(df.Q))\n",
    "yf_postdam = np.abs(yf_postdam[:int(N/2)])\n",
    "fig = plt.figure(figsize=(12,4))\n",
    "plt.subplot(2,1,1)\n",
    "plt.plot(per,yf_postdam)\n",
    "\n",
    "top10=np.argsort(yf_postdam)[-10:]\n",
    "j=0.2\n",
    "for i in top10:\n",
    "    plt.plot([per[i],per[i]],[0,np.max(yf_postdam)],'r:')\n",
    "    plt.text(per[i],j*np.max(yf_postdam),'{0:.2f}'.format(per[i]))\n",
    "    j+=0.1\n",
    "\n",
    "plt.xscale('log')\n",
    "\n",
    "plt.subplot(2,1,2)\n",
    "plt.plot(range(len(df)),df.Q)\n",
    "#plt.xlim([0,2500])"
   ]
  },
  {
   "cell_type": "markdown",
   "metadata": {},
   "source": [
    "## in the heady days of grunge?"
   ]
  },
  {
   "cell_type": "code",
   "execution_count": null,
   "metadata": {
    "scrolled": false
   },
   "outputs": [],
   "source": [
    "df = df_all.copy()\n",
    "df = df.loc[(df.index.year>=1993) & (df.index.year<=1996)]\n",
    "N = len(df)\n",
    "d = 1. # day\n",
    "f = np.fft.fftfreq(N,d)[:int(N/2)]\n",
    "per = 1./f # days\n",
    "yf_postdam = np.fft.fft(sp_detrend(df.Q))\n",
    "yf_postdam = np.abs(yf_postdam[:int(N/2)])\n",
    "fig = plt.figure(figsize=(12,4))\n",
    "plt.subplot(2,1,1)\n",
    "plt.plot(per,yf_postdam)\n",
    "\n",
    "top10=np.argsort(yf_postdam)[-10:]\n",
    "j=0.2\n",
    "for i in top10:\n",
    "    plt.plot([per[i],per[i]],[0,np.max(yf_postdam)],'r:')\n",
    "    plt.text(per[i],j*np.max(yf_postdam),'{0:.2f}'.format(per[i]))\n",
    "    j+=0.1\n",
    "\n",
    "plt.xscale('log')\n",
    "\n",
    "plt.subplot(2,1,2)\n",
    "plt.plot(range(len(df)),df.Q)\n"
   ]
  },
  {
   "cell_type": "markdown",
   "metadata": {},
   "source": [
    "## what's up with a dominant frequency of 7 days?\n",
    "\n",
    "## let's check out a couple weeks of the signal"
   ]
  },
  {
   "cell_type": "code",
   "execution_count": null,
   "metadata": {},
   "outputs": [],
   "source": [
    "plt.figure(figsize=(16,4))\n",
    "cfreq = 40\n",
    "df.iloc[:cfreq].Q.plot(rot=45, grid=True)\n",
    "plt.xticks(df.iloc[:cfreq].index,df.iloc[:cfreq].index.weekday_name);"
   ]
  },
  {
   "cell_type": "markdown",
   "metadata": {},
   "source": [
    "## looks like power management. similar these days?"
   ]
  },
  {
   "cell_type": "code",
   "execution_count": null,
   "metadata": {},
   "outputs": [],
   "source": [
    "df = df_all.copy()\n",
    "df = df.loc[(df.index.year>=2017) & (df.index<'2018-01-1')]\n",
    "N = len(df)\n",
    "d = 1. # day\n",
    "f = np.fft.fftfreq(N,d)[:int(N/2)]\n",
    "per = 1./f # days\n",
    "yf_postdam = np.fft.fft(sp_detrend(df.Q))\n",
    "yf_postdam = np.abs(yf_postdam[:int(N/2)])\n",
    "fig = plt.figure(figsize=(12,4))\n",
    "plt.subplot(2,1,1)\n",
    "plt.plot(per,yf_postdam)\n",
    "\n",
    "top10=np.argsort(yf_postdam)[-10:]\n",
    "j=0.2\n",
    "for i in top10:\n",
    "    plt.plot([per[i],per[i]],[0,np.max(yf_postdam)],'r:')\n",
    "    plt.text(per[i],j*np.max(yf_postdam),'{0:.2f}'.format(per[i]))\n",
    "    j+=0.1\n",
    "\n",
    "plt.xscale('log')\n",
    "\n",
    "plt.subplot(2,1,2)\n",
    "plt.plot(range(len(df)),df.Q)"
   ]
  },
  {
   "cell_type": "code",
   "execution_count": null,
   "metadata": {},
   "outputs": [],
   "source": [
    "plt.figure(figsize=(16,4))\n",
    "cfreq = 30\n",
    "df.iloc[:cfreq].Q.plot(rot=45, grid=True)\n",
    "plt.xticks(df.iloc[:cfreq].index,df.iloc[:cfreq].index.weekday_name);"
   ]
  },
  {
   "cell_type": "code",
   "execution_count": null,
   "metadata": {},
   "outputs": [],
   "source": []
  },
  {
   "cell_type": "code",
   "execution_count": null,
   "metadata": {},
   "outputs": [],
   "source": []
  }
 ],
 "metadata": {
  "kernel_info": {
   "name": "python3"
  },
  "kernelspec": {
   "display_name": "Python 3",
   "language": "python",
   "name": "python3"
  },
  "language_info": {
   "codemirror_mode": {
    "name": "ipython",
    "version": 3
   },
   "file_extension": ".py",
   "mimetype": "text/x-python",
   "name": "python",
   "nbconvert_exporter": "python",
   "pygments_lexer": "ipython3",
   "version": "3.6.8"
  },
  "nteract": {
   "version": "0.7.1"
  }
 },
 "nbformat": 4,
 "nbformat_minor": 2
}
